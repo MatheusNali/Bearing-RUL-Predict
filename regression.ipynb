{
 "cells": [
  {
   "cell_type": "code",
   "execution_count": 8,
   "metadata": {},
   "outputs": [
    {
     "name": "stdout",
     "output_type": "stream",
     "text": [
      "The autoreload extension is already loaded. To reload it, use:\n",
      "  %reload_ext autoreload\n"
     ]
    }
   ],
   "source": [
    "import numpy as np\n",
    "import pandas as pd\n",
    "from sklearn.preprocessing import StandardScaler, MinMaxScaler\n",
    "from sklearn.ensemble import RandomForestRegressor\n",
    "\n",
    "from utils import data_model\n",
    "from utils.preprocessing import get_explosion_index\n",
    "\n",
    "%load_ext autoreload\n",
    "%autoreload 2"
   ]
  },
  {
   "cell_type": "code",
   "execution_count": 4,
   "metadata": {},
   "outputs": [],
   "source": [
    "dataset_path = 'data/processed_data/femto_dataset'\n",
    "\n",
    "# 'all' or a list of bearings name (e.g. 'all' or ['Bearing1_1', 'Bearing2_5', 'Bearing3_1', ...])\n",
    "bearings_to_load = ['Bearing1_1', 'Bearing1_2', 'Bearing1_4', 'Bearing1_5', 'Bearing1_6',\n",
    "                    'Bearing1_7', 'Bearing2_1', 'Bearing2_2', 'Bearing2_3', 'Bearing2_4',\n",
    "                    'Bearing2_5', 'Bearing2_6', 'Bearing2_7', 'Bearing3_1', 'Bearing3_2', \n",
    "                    'Bearing3_3']\n",
    "\n",
    "# 'all' or a list of data names (e.g. 'all' or ['acc', 'temp', 'cumsum', 'fft_spectogram', ...])\n",
    "# results from 'data_utils' functions have the same data name of its corresponding function \n",
    "data_to_load = ['cumsum_v', 'correlation_coeffs_v']\n",
    "\n",
    "bearings = data_model.load(dataset_path, bearings_to_load, data_to_load)"
   ]
  },
  {
   "cell_type": "markdown",
   "metadata": {},
   "source": [
    "---"
   ]
  },
  {
   "cell_type": "code",
   "execution_count": 5,
   "metadata": {},
   "outputs": [],
   "source": [
    "def train_test_rf(train, test, qtd, degree):\n",
    "    \n",
    "    \n",
    "    scaler = MinMaxScaler()\n",
    "    reg = RandomForestRegressor(n_estimators=100, random_state=42)\n",
    "\n",
    "\n",
    "    # Train\n",
    "    hankel_spot = pd.DataFrame(train.data['correlation_coeffs_v'], columns=['hankel_v'])\n",
    "    aux = hankel_spot.query('hankel_v < 0.6').index[0]\n",
    "    explosion_index = get_explosion_index(hankel_spot, aux)\n",
    "\n",
    "    expon = train.data['cumsum_v'][step*explosion_index:]\n",
    "    expon = expon.values.reshape(-1, 1)\n",
    "    expon = scaler.fit_transform(expon)\n",
    "    expon = np.hstack(expon)\n",
    "\n",
    "    target_expon = np.linspace(1, 0, len(expon))\n",
    "    step_temp = len(expon)//qtd\n",
    "\n",
    "    coeffs = []\n",
    "    for i in range(0, qtd):\n",
    "        x = expon[i*step_temp : (i+1)*step_temp]\n",
    "        y = target_expon[i*step_temp : (i+1)*step_temp]\n",
    "        coeffs.append(np.polyfit(x, y, degree))\n",
    "\n",
    "    target_expon = np.linspace(1, 0, len(coeffs))\n",
    "    reg.fit(coeffs, target_expon)\n",
    "    score_train = reg.score(coeffs, target_expon)\n",
    "\n",
    "\n",
    "    # Test\n",
    "    hankel_spot = pd.DataFrame(test.data['correlation_coeffs_v'], columns=['hankel_v'])\n",
    "    aux = hankel_spot.query('hankel_v < 0.8').index[0]\n",
    "\n",
    "    explosion_index = get_explosion_index(hankel_spot, aux)\n",
    "    linear = test.data['cumsum_v'][0:step*explosion_index]\n",
    "    expon  = test.data['cumsum_v'][step*explosion_index:]\n",
    "\n",
    "    expon = expon.values.reshape(-1, 1)\n",
    "    expon = scaler.fit_transform(expon)\n",
    "    expon = np.hstack(expon)\n",
    "\n",
    "    target_expon = np.linspace(1, 0, len(expon))\n",
    "\n",
    "    step_temp = len(expon)//qtd\n",
    "\n",
    "    coeffs = []\n",
    "    for i in range(0, qtd):\n",
    "        x = expon[i*step_temp:(i+1)*step_temp]\n",
    "        y = target_expon[i*step_temp:(i+1)*step_temp]\n",
    "        coeffs.append(np.polyfit(x, y, degree))\n",
    "\n",
    "    target_expon = np.linspace(1, 0, len(coeffs))\n",
    "\n",
    "    score_test = reg.score(coeffs, target_expon)\n",
    "\n",
    "    return score_test"
   ]
  },
  {
   "cell_type": "code",
   "execution_count": 6,
   "metadata": {},
   "outputs": [],
   "source": [
    "scores = []\n",
    "counter = 0; total = len(bearings)**2\n",
    "step = 2560\n",
    "\n",
    "for train in bearings: \n",
    "    scores_intern = []\n",
    "    \n",
    "    for test in bearings:\n",
    "        score_test = train_test_rf(train, test, qtd=1000, degree=2)\n",
    "        scores_intern.append(score_test)\n",
    "        \n",
    "        print('Iteration %s/%s' % (counter, total))\n",
    "        print('Train: %s \\nTest: %s \\nScore: %s\\n' %(train.name, test.name, score_test))\n",
    "        counter += 1\n",
    "        \n",
    "    scores.append(scores_intern)"
   ]
  },
  {
   "cell_type": "code",
   "execution_count": 7,
   "metadata": {},
   "outputs": [],
   "source": [
    "bearings_names = ['Bearing1_1', 'Bearing1_2', 'Bearing1_4', 'Bearing1_5', 'Bearing1_6',\n",
    "                  'Bearing1_7', 'Bearing2_1', 'Bearing2_2', 'Bearing2_3', 'Bearing2_4',\n",
    "                  'Bearing2_5', 'Bearing2_6', 'Bearing2_7', 'Bearing3_1', 'Bearing3_2', \n",
    "                  'Bearing3_3']\n",
    "\n",
    "scores_df = pd.DataFrame(scores, columns=bearings_names)\n",
    "scores_df.to_csv('regression.csv')"
   ]
  },
  {
   "cell_type": "code",
   "execution_count": null,
   "metadata": {},
   "outputs": [],
   "source": []
  }
 ],
 "metadata": {
  "kernelspec": {
   "display_name": "Python 3",
   "language": "python",
   "name": "python3"
  },
  "language_info": {
   "codemirror_mode": {
    "name": "ipython",
    "version": 3
   },
   "file_extension": ".py",
   "mimetype": "text/x-python",
   "name": "python",
   "nbconvert_exporter": "python",
   "pygments_lexer": "ipython3",
   "version": "3.7.9"
  }
 },
 "nbformat": 4,
 "nbformat_minor": 2
}
